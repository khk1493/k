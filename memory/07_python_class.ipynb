{
 "cells": [
  {
   "cell_type": "markdown",
   "metadata": {},
   "source": [
    "# Class\n",
    "ref: https://wikidocs.net/28\n",
    "\n",
    "1. 클래스 생성"
   ]
  },
  {
   "cell_type": "code",
   "execution_count": 1,
   "metadata": {},
   "outputs": [],
   "source": [
    "class FourCal:\n",
    "    pass  # pass는 아무것도 수행하지 않는 문법"
   ]
  },
  {
   "cell_type": "markdown",
   "metadata": {},
   "source": [
    "2. 클래스 FourCal의 객체 a 생성,   \n",
    " type()로 확인  \n",
    " **a라는 객체**는 **FourCal이라는 클래스**의 **인스탄스**임"
   ]
  },
  {
   "cell_type": "code",
   "execution_count": 24,
   "metadata": {},
   "outputs": [
    {
     "name": "stdout",
     "output_type": "stream",
     "text": [
      "<class '__main__.FourCal'>\n"
     ]
    }
   ],
   "source": [
    "a = FourCal()\n",
    "print(type(a))"
   ]
  },
  {
   "cell_type": "markdown",
   "metadata": {},
   "source": [
    "3. **a라는 객체**를 사용할 수 있도록 **클래스 FourCal**에 데이터를 입력할 수 있는 함수 생성  \n",
    "클래스 안에 구현된 함수를 **매서드(method)**라고 함  \n",
    "( )의 단어를 **매개변수(parameter)**라고 하고 매개변수 값을 **argument**라고 함"
   ]
  },
  {
   "cell_type": "code",
   "execution_count": 30,
   "metadata": {},
   "outputs": [],
   "source": [
    "class FourCal:\n",
    "    def setdata(self, x, y):\n",
    "        self.x = x\n",
    "        self.y = y"
   ]
  },
  {
   "cell_type": "markdown",
   "metadata": {},
   "source": [
    "4. 매서드를 객체가 dot(.) 연산자로 사용.  \n",
    "객체 a는 self로 들어 감.  \n",
    "따라서 a.x = self.x (클래스 변수를 이용하여 객체 변수를 생성)  \n",
    "객체변수는 객체간 공유할 수 없음 ( a.x <> b.x )  \n",
    "객체변수 = 속성 = 멤버 변수 = 인스탄스 변수"
   ]
  },
  {
   "cell_type": "code",
   "execution_count": 34,
   "metadata": {},
   "outputs": [
    {
     "name": "stdout",
     "output_type": "stream",
     "text": [
      "4\n",
      "3\n"
     ]
    }
   ],
   "source": [
    "a = FourCal()\n",
    "a.setdata(4,3)\n",
    "print(a.x)\n",
    "print(a.y)"
   ]
  },
  {
   "cell_type": "code",
   "execution_count": 35,
   "metadata": {},
   "outputs": [
    {
     "name": "stdout",
     "output_type": "stream",
     "text": [
      "5 7\n"
     ]
    }
   ],
   "source": [
    "b = FourCal()\n",
    "b.setdata(5, 7)\n",
    "print(b.x, b.y)"
   ]
  },
  {
   "cell_type": "markdown",
   "metadata": {},
   "source": [
    "5. 클래스에 사칙 연산 함수 추가"
   ]
  },
  {
   "cell_type": "code",
   "execution_count": 52,
   "metadata": {},
   "outputs": [
    {
     "name": "stdout",
     "output_type": "stream",
     "text": [
      "<class '__main__.FourCal'>\n",
      "0.6\n"
     ]
    }
   ],
   "source": [
    "class FourCal:\n",
    "    def setdata(self, x, y):\n",
    "        self.x = x\n",
    "        self.y = y\n",
    "    def sum(self):\n",
    "        result = self.x + self.y\n",
    "        return result\n",
    "    def sub(self):\n",
    "        result = self.x - self.y\n",
    "        return result\n",
    "    def mul(self):\n",
    "        result = self.x * self.y\n",
    "        return result\n",
    "    def div(self):\n",
    "        result = self.x / self.y\n",
    "        return result\n",
    "    \n",
    "c = FourCal()\n",
    "print(type(c))\n",
    "c.setdata(3, 5)\n",
    "print(c.div())"
   ]
  },
  {
   "cell_type": "markdown",
   "metadata": {},
   "source": [
    "6. 생성자 (Constructor)  \n",
    "객체를 생성할 때 데이터를 바로 입력할 수 있음 (오류가 줄어듦)"
   ]
  },
  {
   "cell_type": "code",
   "execution_count": 54,
   "metadata": {},
   "outputs": [
    {
     "name": "stdout",
     "output_type": "stream",
     "text": [
      "0.5714285714285714\n"
     ]
    }
   ],
   "source": [
    "class FourCal:\n",
    "    def __init__(self, x, y):\n",
    "        self.x = x\n",
    "        self.y = y\n",
    "#    def setdata(self, x, y):\n",
    " #       self.x = x\n",
    "  #      self.y = y\n",
    "    def sum(self):\n",
    "        result = self.x + self.y\n",
    "        return result\n",
    "    def sub(self):\n",
    "        result = self.x - self.y\n",
    "        return result\n",
    "    def mul(self):\n",
    "        result = self.x * self.y\n",
    "        return result\n",
    "    def div(self):\n",
    "        result = self.x / self.y\n",
    "        return result\n",
    "    \n",
    "c = FourCal(4, 7)\n",
    "print(c.div())"
   ]
  },
  {
   "cell_type": "markdown",
   "metadata": {},
   "source": [
    "7. 클래스 상속  \n",
    "class 클래스명(상속할 클래스명):"
   ]
  },
  {
   "cell_type": "code",
   "execution_count": 55,
   "metadata": {},
   "outputs": [
    {
     "name": "stdout",
     "output_type": "stream",
     "text": [
      "0.5714285714285714\n",
      "16384\n"
     ]
    }
   ],
   "source": [
    "class MoreFourCal(FourCal):\n",
    "    def pow(self):\n",
    "        result = self.x ** self.y\n",
    "        return result\n",
    "    \n",
    "c = MoreFourCal(4, 7)\n",
    "print(c.div())\n",
    "print(c.pow())"
   ]
  },
  {
   "cell_type": "markdown",
   "metadata": {},
   "source": [
    "8. 매서드 오버라이딩  \n",
    "기존 클래스 안의 매서드 내용을 수정  \n",
    "class 클래스명(기존 클래스명):"
   ]
  },
  {
   "cell_type": "code",
   "execution_count": 58,
   "metadata": {
    "scrolled": true
   },
   "outputs": [
    {
     "name": "stdout",
     "output_type": "stream",
     "text": [
      "0\n",
      "0.5714285714285714\n"
     ]
    }
   ],
   "source": [
    "class SafeFourCal(FourCal):\n",
    "    def div(self):\n",
    "        if self.y == 0:  # 이 조건문이 없으면 error 발생\n",
    "            return 0\n",
    "        else:\n",
    "            return self.x / self.y\n",
    "\n",
    "c = SafeFourCal(4, 0)\n",
    "print(c.div())\n",
    "c = SafeFourCal(4, 7)\n",
    "print(c.div())\n"
   ]
  },
  {
   "cell_type": "markdown",
   "metadata": {},
   "source": [
    "9. 클래스 변수 - 나중에"
   ]
  },
  {
   "cell_type": "code",
   "execution_count": null,
   "metadata": {},
   "outputs": [],
   "source": []
  }
 ],
 "metadata": {
  "kernelspec": {
   "display_name": "torch4",
   "language": "python",
   "name": "torch4"
  },
  "language_info": {
   "codemirror_mode": {
    "name": "ipython",
    "version": 3
   },
   "file_extension": ".py",
   "mimetype": "text/x-python",
   "name": "python",
   "nbconvert_exporter": "python",
   "pygments_lexer": "ipython3",
   "version": "3.6.5"
  }
 },
 "nbformat": 4,
 "nbformat_minor": 2
}
